{
 "cells": [
  {
   "cell_type": "code",
   "execution_count": 1,
   "id": "23efe9de-d3f4-4d72-96c9-92b5e213420e",
   "metadata": {},
   "outputs": [],
   "source": [
    "#importing the dependencies "
   ]
  },
  {
   "cell_type": "code",
   "execution_count": 2,
   "id": "f6e89145-ec70-4984-b131-2c39522358f7",
   "metadata": {},
   "outputs": [],
   "source": [
    "import numpy as np\n",
    "import pandas as pd\n",
    "import matplotlib.pyplot as plt \n",
    "import seaborn as sns\n",
    "from sklearn.cluster import KMeans"
   ]
  },
  {
   "cell_type": "code",
   "execution_count": 3,
   "id": "4ca1ff29-0b45-413a-b70a-a91d871c098e",
   "metadata": {},
   "outputs": [],
   "source": [
    "#data collection and analysis"
   ]
  },
  {
   "cell_type": "code",
   "execution_count": 4,
   "id": "5af015a1-7c53-4a0d-9bad-bb2f2df45452",
   "metadata": {},
   "outputs": [],
   "source": [
    "# loading the data from csv to pandas\n",
    "customer_data = pd.read_csv(r\"C:\\Users\\prabh\\Downloads\\Mall_Customers.csv\")"
   ]
  },
  {
   "cell_type": "code",
   "execution_count": 5,
   "id": "5520df97-d535-4fd1-a025-09d53053cd5f",
   "metadata": {},
   "outputs": [
    {
     "data": {
      "text/html": [
       "<div>\n",
       "<style scoped>\n",
       "    .dataframe tbody tr th:only-of-type {\n",
       "        vertical-align: middle;\n",
       "    }\n",
       "\n",
       "    .dataframe tbody tr th {\n",
       "        vertical-align: top;\n",
       "    }\n",
       "\n",
       "    .dataframe thead th {\n",
       "        text-align: right;\n",
       "    }\n",
       "</style>\n",
       "<table border=\"1\" class=\"dataframe\">\n",
       "  <thead>\n",
       "    <tr style=\"text-align: right;\">\n",
       "      <th></th>\n",
       "      <th>CustomerID</th>\n",
       "      <th>Gender</th>\n",
       "      <th>Age</th>\n",
       "      <th>Annual Income (k$)</th>\n",
       "      <th>Spending Score (1-100)</th>\n",
       "    </tr>\n",
       "  </thead>\n",
       "  <tbody>\n",
       "    <tr>\n",
       "      <th>0</th>\n",
       "      <td>1</td>\n",
       "      <td>Male</td>\n",
       "      <td>19</td>\n",
       "      <td>15</td>\n",
       "      <td>39</td>\n",
       "    </tr>\n",
       "    <tr>\n",
       "      <th>1</th>\n",
       "      <td>2</td>\n",
       "      <td>Male</td>\n",
       "      <td>21</td>\n",
       "      <td>15</td>\n",
       "      <td>81</td>\n",
       "    </tr>\n",
       "    <tr>\n",
       "      <th>2</th>\n",
       "      <td>3</td>\n",
       "      <td>Female</td>\n",
       "      <td>20</td>\n",
       "      <td>16</td>\n",
       "      <td>6</td>\n",
       "    </tr>\n",
       "    <tr>\n",
       "      <th>3</th>\n",
       "      <td>4</td>\n",
       "      <td>Female</td>\n",
       "      <td>23</td>\n",
       "      <td>16</td>\n",
       "      <td>77</td>\n",
       "    </tr>\n",
       "    <tr>\n",
       "      <th>4</th>\n",
       "      <td>5</td>\n",
       "      <td>Female</td>\n",
       "      <td>31</td>\n",
       "      <td>17</td>\n",
       "      <td>40</td>\n",
       "    </tr>\n",
       "  </tbody>\n",
       "</table>\n",
       "</div>"
      ],
      "text/plain": [
       "   CustomerID  Gender  Age  Annual Income (k$)  Spending Score (1-100)\n",
       "0           1    Male   19                  15                      39\n",
       "1           2    Male   21                  15                      81\n",
       "2           3  Female   20                  16                       6\n",
       "3           4  Female   23                  16                      77\n",
       "4           5  Female   31                  17                      40"
      ]
     },
     "execution_count": 5,
     "metadata": {},
     "output_type": "execute_result"
    }
   ],
   "source": [
    "customer_data.head()"
   ]
  },
  {
   "cell_type": "code",
   "execution_count": 6,
   "id": "94e67e1f-66a4-4066-ac9f-7b54153f48d4",
   "metadata": {},
   "outputs": [
    {
     "data": {
      "text/plain": [
       "(200, 5)"
      ]
     },
     "execution_count": 6,
     "metadata": {},
     "output_type": "execute_result"
    }
   ],
   "source": [
    "customer_data.shape"
   ]
  },
  {
   "cell_type": "code",
   "execution_count": 7,
   "id": "530b33a6-0317-4fa3-8ed3-8aec89fa1fb6",
   "metadata": {},
   "outputs": [
    {
     "name": "stdout",
     "output_type": "stream",
     "text": [
      "<class 'pandas.core.frame.DataFrame'>\n",
      "RangeIndex: 200 entries, 0 to 199\n",
      "Data columns (total 5 columns):\n",
      " #   Column                  Non-Null Count  Dtype \n",
      "---  ------                  --------------  ----- \n",
      " 0   CustomerID              200 non-null    int64 \n",
      " 1   Gender                  200 non-null    object\n",
      " 2   Age                     200 non-null    int64 \n",
      " 3   Annual Income (k$)      200 non-null    int64 \n",
      " 4   Spending Score (1-100)  200 non-null    int64 \n",
      "dtypes: int64(4), object(1)\n",
      "memory usage: 7.9+ KB\n"
     ]
    }
   ],
   "source": [
    "#getting some information about the dataset\n",
    "customer_data.info()"
   ]
  },
  {
   "cell_type": "code",
   "execution_count": 8,
   "id": "caec0a9d-b070-4180-9365-b9c1464dd016",
   "metadata": {},
   "outputs": [
    {
     "data": {
      "text/plain": [
       "CustomerID                0\n",
       "Gender                    0\n",
       "Age                       0\n",
       "Annual Income (k$)        0\n",
       "Spending Score (1-100)    0\n",
       "dtype: int64"
      ]
     },
     "execution_count": 8,
     "metadata": {},
     "output_type": "execute_result"
    }
   ],
   "source": [
    "# checking for missing values\n",
    "customer_data.isnull().sum()"
   ]
  },
  {
   "cell_type": "code",
   "execution_count": 9,
   "id": "fb3d5f57-b51b-4f37-973d-21407809639e",
   "metadata": {},
   "outputs": [],
   "source": [
    "# the customer id is not required\n",
    "#choosing the annual income column and spending columns "
   ]
  },
  {
   "cell_type": "code",
   "execution_count": 21,
   "id": "5548a893-fc7e-41da-b64a-e75e9685c298",
   "metadata": {},
   "outputs": [],
   "source": [
    "X= customer_data.iloc[:,[3,4]].values"
   ]
  },
  {
   "cell_type": "code",
   "execution_count": 20,
   "id": "8ab0c63d-cab1-49d1-955b-56ef68173e50",
   "metadata": {},
   "outputs": [],
   "source": [
    "#choosing the number of clusters"
   ]
  },
  {
   "cell_type": "code",
   "execution_count": 22,
   "id": "86b02c51-388a-4382-aa34-8369ac45da48",
   "metadata": {},
   "outputs": [],
   "source": [
    "#WCSS minimal of apt cluster "
   ]
  },
  {
   "cell_type": "code",
   "execution_count": 23,
   "id": "1e4c919d-a633-4352-bf46-83505e454fea",
   "metadata": {},
   "outputs": [],
   "source": [
    "#elbow method "
   ]
  },
  {
   "cell_type": "code",
   "execution_count": 24,
   "id": "1cf4a154-acf4-40dd-825d-8bc03981d58b",
   "metadata": {},
   "outputs": [],
   "source": [
    "wcss =[]\n",
    "for i in range(1,11):\n",
    "    kmeans = KMeans(n_clusters=i,init ='k-means++',random_state=2)\n",
    "    kmeans.fit(X)\n",
    "    wcss.append(kmeans.inertia_)\n",
    "    "
   ]
  },
  {
   "cell_type": "code",
   "execution_count": 25,
   "id": "875dbff9-ed44-46a2-b286-f80f9f4a7c82",
   "metadata": {},
   "outputs": [],
   "source": [
    "# creating an elbow graph "
   ]
  },
  {
   "cell_type": "code",
   "execution_count": 26,
   "id": "af7889aa-ea67-416e-af17-d52b13e823c9",
   "metadata": {},
   "outputs": [
    {
     "data": {
      "image/png": "[encoded data removed]",
      "text/plain": [
       "<Figure size 640x480 with 1 Axes>"
      ]
     },
     "metadata": {},
     "output_type": "display_data"
    }
   ],
   "source": [
    "sns.set()\n",
    "plt.plot(range(1,11),wcss)\n",
    "plt.title(\"the elbow point graph\")\n",
    "plt.xlabel(\"number of clusters\")\n",
    "plt.ylabel(\"wcss\")\n",
    "plt.show()"
   ]
  },
  {
   "cell_type": "code",
   "execution_count": 27,
   "id": "9dc08435-554b-449e-937a-b3a4ec551e01",
   "metadata": {},
   "outputs": [],
   "source": [
    "#optimum number of clusters will be 5 "
   ]
  },
  {
   "cell_type": "code",
   "execution_count": 28,
   "id": "311eb7a5-9f37-4903-967b-c57446e978af",
   "metadata": {},
   "outputs": [],
   "source": [
    "#training the model by 5-means"
   ]
  },
  {
   "cell_type": "code",
   "execution_count": 29,
   "id": "fa9b3af3-5107-4de7-87e0-f058623be91e",
   "metadata": {},
   "outputs": [],
   "source": [
    "#kmeans=KMeans(n_clusters=5,init='kmeans++',random_state=42)"
   ]
  },
  {
   "cell_type": "code",
   "execution_count": 30,
   "id": "1b0182f8-ca78-4cf7-9ebc-3f0d6f6bee98",
   "metadata": {},
   "outputs": [],
   "source": [
    "# return a label for each cluster for each datapoint based on their cluster"
   ]
  },
  {
   "cell_type": "code",
   "execution_count": 34,
   "id": "e4d3ef1f-e1c3-4127-ae96-09325c71d642",
   "metadata": {},
   "outputs": [],
   "source": [
    "kmeans = KMeans(init='k-means++', n_clusters=5, random_state=42)\n",
    "Y = kmeans.fit_predict(X)"
   ]
  },
  {
   "cell_type": "code",
   "execution_count": 35,
   "id": "dceab393-9daf-4e00-8326-1b95778564d8",
   "metadata": {},
   "outputs": [
    {
     "data": {
      "text/plain": [
       "array([4, 2, 4, 2, 4, 2, 4, 2, 4, 2, 4, 2, 4, 2, 4, 2, 4, 2, 4, 2, 4, 2,\n",
       "       4, 2, 4, 2, 4, 2, 4, 2, 4, 2, 4, 2, 4, 2, 4, 2, 4, 2, 4, 2, 4, 0,\n",
       "       4, 2, 0, 0, 0, 0, 0, 0, 0, 0, 0, 0, 0, 0, 0, 0, 0, 0, 0, 0, 0, 0,\n",
       "       0, 0, 0, 0, 0, 0, 0, 0, 0, 0, 0, 0, 0, 0, 0, 0, 0, 0, 0, 0, 0, 0,\n",
       "       0, 0, 0, 0, 0, 0, 0, 0, 0, 0, 0, 0, 0, 0, 0, 0, 0, 0, 0, 0, 0, 0,\n",
       "       0, 0, 0, 0, 0, 0, 0, 0, 0, 0, 0, 0, 0, 1, 3, 1, 0, 1, 3, 1, 3, 1,\n",
       "       0, 1, 3, 1, 3, 1, 3, 1, 3, 1, 0, 1, 3, 1, 3, 1, 3, 1, 3, 1, 3, 1,\n",
       "       3, 1, 3, 1, 3, 1, 3, 1, 3, 1, 3, 1, 3, 1, 3, 1, 3, 1, 3, 1, 3, 1,\n",
       "       3, 1, 3, 1, 3, 1, 3, 1, 3, 1, 3, 1, 3, 1, 3, 1, 3, 1, 3, 1, 3, 1,\n",
       "       3, 1], dtype=int32)"
      ]
     },
     "execution_count": 35,
     "metadata": {},
     "output_type": "execute_result"
    }
   ],
   "source": [
    "Y"
   ]
  },
  {
   "cell_type": "code",
   "execution_count": 37,
   "id": "6fe25f5e-e1b0-4dcc-b4fd-c23c48b1c869",
   "metadata": {},
   "outputs": [],
   "source": [
    "# ploting the data now and visualizing clusters"
   ]
  },
  {
   "cell_type": "code",
   "execution_count": 38,
   "id": "4f0634d9-f7ae-4a37-a9e2-7ef4b567672e",
   "metadata": {},
   "outputs": [],
   "source": [
    "#plotting all the clusters and their centroids"
   ]
  },
  {
   "cell_type": "code",
   "execution_count": 44,
   "id": "d84120f1-fc17-4391-9355-65f72abeb9b1",
   "metadata": {},
   "outputs": [
    {
     "data": {
      "image/png": "[encoded data removed]",
      "text/plain": [
       "<Figure size 640x480 with 1 Axes>"
      ]
     },
     "metadata": {},
     "output_type": "display_data"
    }
   ],
   "source": [
    "#\n",
    "plt.scatter(X[Y==0,0],X[Y==0,1],s=50, c='green',label='cluster1')\n",
    "plt.scatter(X[Y==1,0],X[Y==1,1],s=50, c='blue',label='cluster2')\n",
    "plt.scatter(X[Y==2,0],X[Y==2,1],s=50, c='yellow',label='cluster3')\n",
    "plt.scatter(X[Y==3,0],X[Y==3,1],s=50, c='red',label='cluster4')\n",
    "plt.scatter(X[Y==4,0],X[Y==4,1],s=50, c='pink',label='cluster5')\n",
    "#plot the centroids \n",
    "plt.scatter(kmeans.cluster_centers_[:, 0], kmeans.cluster_centers_[:, 1], \n",
    "            s=100, c='black', label='Centroids')\n",
    "plt.title(\"customer groups\")\n",
    "plt.xlabel(\"annual income\")\n",
    "plt.ylabel(\"spending score\")\n",
    "plt.show()"
   ]
  },
  {
   "cell_type": "code",
   "execution_count": null,
   "id": "6f2564ca-6c25-46d6-b231-984f0914a63a",
   "metadata": {},
   "outputs": [],
   "source": [
    "# we get bussiness insights from here "
   ]
  }
 ],
 "metadata": {
  "kernelspec": {
   "display_name": "Python 3 (ipykernel)",
   "language": "python",
   "name": "python3"
  },
  "language_info": {
   "codemirror_mode": {
    "name": "ipython",
    "version": 3
   },
   "file_extension": ".py",
   "mimetype": "text/x-python",
   "name": "python",
   "nbconvert_exporter": "python",
   "pygments_lexer": "ipython3",
   "version": "3.11.3"
  }
 },
 "nbformat": 4,
 "nbformat_minor": 5
}
